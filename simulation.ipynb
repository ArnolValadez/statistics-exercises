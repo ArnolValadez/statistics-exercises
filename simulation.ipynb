{
 "cells": [
  {
   "cell_type": "markdown",
   "metadata": {},
   "source": [
    "# Simulation Exercises"
   ]
  },
  {
   "cell_type": "code",
   "execution_count": 1,
   "metadata": {},
   "outputs": [],
   "source": [
    "import numpy as np\n",
    "import pandas as pd"
   ]
  },
  {
   "cell_type": "markdown",
   "metadata": {},
   "source": [
    "### 1. How likely is it that you roll doubles when rolling two dice?"
   ]
  },
  {
   "cell_type": "code",
   "execution_count": 10,
   "metadata": {},
   "outputs": [
    {
     "data": {
      "text/plain": [
       "0.165759"
      ]
     },
     "execution_count": 10,
     "metadata": {},
     "output_type": "execute_result"
    }
   ],
   "source": [
    "outcomes = [1, 2, 3, 4, 5, 6]\n",
    "n_simulations = 1_000_000\n",
    "n_trials = 2 \n",
    "\n",
    "# Charles iteration comparing the roll [num1, num2] where all (num2) is equal to num1 (roll[0])\n",
    "# rolls = np.random.choice(outcomes, size=(n_simulations, n_trials))\n",
    "# val = [roll for roll in rolls if np.all(roll == roll[0])]\n",
    "# print(len(val)/len(rolls)*100)\n",
    "\n",
    "die1 = np.random.choice(outcomes, size=n_simulations)\n",
    "die2 = np.random.choice(outcomes, size=n_simulations)\n",
    "roll_a_double = (die1 == die2)\n",
    "roll_a_double.mean()"
   ]
  },
  {
   "cell_type": "markdown",
   "metadata": {},
   "source": [
    "### 2. If you flip 8 coins, what is the probability of getting exactly 3 heads? What is the probability of getting more than 3 heads?"
   ]
  },
  {
   "cell_type": "code",
   "execution_count": 17,
   "metadata": {},
   "outputs": [
    {
     "data": {
      "text/plain": [
       "array([[False,  True,  True, ..., False, False, False],\n",
       "       [False,  True,  True, ...,  True, False,  True],\n",
       "       [False, False,  True, ..., False,  True,  True],\n",
       "       ...,\n",
       "       [False,  True,  True, ..., False, False, False],\n",
       "       [False,  True,  True, ...,  True,  True,  True],\n",
       "       [ True, False, False, ...,  True, False,  True]])"
      ]
     },
     "execution_count": 17,
     "metadata": {},
     "output_type": "execute_result"
    }
   ],
   "source": [
    "n_trials = n_rows = 1_000_000\n",
    "coins = n_col = 8\n",
    "heads = True # could also use 1,,, 1 would be the outcome I want\n",
    "tails = False # could also use 0,,, 0 would be the outcome I don't want\n",
    "outcomes = [heads, tails]\n",
    "\n",
    "flips = np.random.choice(outcomes, size=(n_trials, coins))\n",
    "flips"
   ]
  },
  {
   "cell_type": "code",
   "execution_count": 18,
   "metadata": {},
   "outputs": [
    {
     "data": {
      "text/plain": [
       "array([4, 4, 4, ..., 2, 7, 4])"
      ]
     },
     "execution_count": 18,
     "metadata": {},
     "output_type": "execute_result"
    }
   ],
   "source": [
    "flips.sum(axis=1)"
   ]
  },
  {
   "cell_type": "code",
   "execution_count": 19,
   "metadata": {},
   "outputs": [],
   "source": [
    "numheads = flips.sum(axis=1)"
   ]
  },
  {
   "cell_type": "code",
   "execution_count": 22,
   "metadata": {},
   "outputs": [
    {
     "name": "stdout",
     "output_type": "stream",
     "text": [
      "The probability that we will flip exactly 3 heads over 8 coins is 0.218501\n"
     ]
    }
   ],
   "source": [
    "prob = (numheads == 3).mean()\n",
    "print(f'The probability that we will flip exactly 3 heads over {n_col} coins is {prob}')"
   ]
  },
  {
   "cell_type": "code",
   "execution_count": 23,
   "metadata": {},
   "outputs": [
    {
     "name": "stdout",
     "output_type": "stream",
     "text": [
      "The probability that we will flip at least 3 heads over 8 coins is 0.854511\n"
     ]
    }
   ],
   "source": [
    "prob2 = (numheads >= 3).mean()\n",
    "print(f'The probability that we will flip at least 3 heads over {n_col} coins is {prob2}')"
   ]
  },
  {
   "cell_type": "markdown",
   "metadata": {},
   "source": [
    "### 3. There are approximitely 3 web development cohorts for every 1 data science cohort at Codeup. Assuming that Codeup randomly selects an alumni to put on a billboard, what are the odds that the two billboards I drive past both have data science students on them?"
   ]
  },
  {
   "cell_type": "code",
   "execution_count": 24,
   "metadata": {},
   "outputs": [
    {
     "data": {
      "text/plain": [
       "array([[0.79871151, 0.52852776],\n",
       "       [0.75148828, 0.2896287 ],\n",
       "       [0.1559973 , 0.50274701],\n",
       "       ...,\n",
       "       [0.83772984, 0.15359702],\n",
       "       [0.23464592, 0.0691093 ],\n",
       "       [0.50240993, 0.04553802]])"
      ]
     },
     "execution_count": 24,
     "metadata": {},
     "output_type": "execute_result"
    }
   ],
   "source": [
    "n_rows = 1_000_000\n",
    "n_cols = 2\n",
    "prob_ds = 0.25\n",
    "data = np.random.random((n_rows, n_cols))\n",
    "data"
   ]
  },
  {
   "cell_type": "code",
   "execution_count": 27,
   "metadata": {},
   "outputs": [
    {
     "data": {
      "text/plain": [
       "array([[False, False],\n",
       "       [False, False],\n",
       "       [ True, False],\n",
       "       ...,\n",
       "       [False,  True],\n",
       "       [ True,  True],\n",
       "       [False,  True]])"
      ]
     },
     "execution_count": 27,
     "metadata": {},
     "output_type": "execute_result"
    }
   ],
   "source": [
    "ds_billboard = data < prob_ds\n",
    "ds_billboard"
   ]
  },
  {
   "cell_type": "code",
   "execution_count": 28,
   "metadata": {},
   "outputs": [
    {
     "data": {
      "text/plain": [
       "array([0, 0, 1, ..., 1, 2, 1])"
      ]
     },
     "execution_count": 28,
     "metadata": {},
     "output_type": "execute_result"
    }
   ],
   "source": [
    "ds_billboard.sum(axis=1)"
   ]
  },
  {
   "cell_type": "code",
   "execution_count": 25,
   "metadata": {},
   "outputs": [
    {
     "data": {
      "text/plain": [
       "0.062057"
      ]
     },
     "execution_count": 25,
     "metadata": {},
     "output_type": "execute_result"
    }
   ],
   "source": [
    "((data < prob_ds).sum(axis=1) == 2).mean()"
   ]
  },
  {
   "cell_type": "code",
   "execution_count": 29,
   "metadata": {},
   "outputs": [
    {
     "data": {
      "text/plain": [
       "0.062057"
      ]
     },
     "execution_count": 29,
     "metadata": {},
     "output_type": "execute_result"
    }
   ],
   "source": [
    "((ds_billboard).sum(axis=1) == 2).mean()"
   ]
  },
  {
   "cell_type": "markdown",
   "metadata": {},
   "source": [
    "### 4. Codeup students buy, on average, 3 poptart packages (+- 1.5) a day from the snack vending machine. If on monday the machine is restocked with 17 poptart packages, how likely is it that I will be able to buy some poptarts on Friday afternoon?"
   ]
  },
  {
   "cell_type": "code",
   "execution_count": 30,
   "metadata": {},
   "outputs": [
    {
     "data": {
      "text/plain": [
       "array([[4.81315718, 3.69226216, 4.90239369, 3.09373832, 2.47804249],\n",
       "       [3.05382554, 3.83155731, 3.31858947, 1.95161228, 4.37455584],\n",
       "       [2.75001475, 2.94079724, 2.49141149, 3.14820053, 1.56614176],\n",
       "       ...,\n",
       "       [4.09710888, 2.1280843 , 4.08339096, 4.54456409, 3.92255015],\n",
       "       [4.84673835, 2.8655277 , 1.41552805, 2.65214787, 2.20479185],\n",
       "       [5.18772776, 4.01468185, 4.47378215, 4.1787528 , 2.13109757]])"
      ]
     },
     "execution_count": 30,
     "metadata": {},
     "output_type": "execute_result"
    }
   ],
   "source": [
    "pop_avg = 3\n",
    "pop_std = 1.5\n",
    "days = n_cols = 5\n",
    "n_trials = n_rows = 1_000_000\n",
    "possible_poptarts_consumed = np.random.normal(pop_avg, pop_std, size=(n_rows, n_cols))\n",
    "possible_poptarts_consumed"
   ]
  },
  {
   "cell_type": "code",
   "execution_count": 31,
   "metadata": {},
   "outputs": [
    {
     "data": {
      "text/plain": [
       "array([18.97959384, 16.53014045, 12.89656578, ..., 18.77569836,\n",
       "       13.98473381, 19.98604212])"
      ]
     },
     "execution_count": 31,
     "metadata": {},
     "output_type": "execute_result"
    }
   ],
   "source": [
    "possible_poptarts_consumed.sum(axis=1)"
   ]
  },
  {
   "cell_type": "code",
   "execution_count": 33,
   "metadata": {},
   "outputs": [
    {
     "name": "stdout",
     "output_type": "stream",
     "text": [
      "The probability that there will still be poptarts in the vending machine after 5 days is 0.616635\n"
     ]
    }
   ],
   "source": [
    "calculated_prob = (possible_poptarts_consumed.sum(axis=1) <= 16).mean()\n",
    "print(f'The probability that there will still be poptarts in the vending machine after {n_cols} days is {calculated_prob}')"
   ]
  },
  {
   "cell_type": "markdown",
   "metadata": {},
   "source": [
    "### 5. Compare Heights\n",
    " - Men have an average height of 178 cm and standard deviation of 8cm.\n",
    " - Women have a mean of 170, sd = 6cm.\n",
    " - Since you have means and standard deviations, you can use np.random.normal to generate observations.\n",
    " - If a man and woman are chosen at random, P(woman taller than man)?"
   ]
  },
  {
   "cell_type": "code",
   "execution_count": 34,
   "metadata": {},
   "outputs": [
    {
     "data": {
      "text/plain": [
       "array([174.16922575, 175.58446731, 173.62173203, 178.83029317,\n",
       "       180.05032911])"
      ]
     },
     "execution_count": 34,
     "metadata": {},
     "output_type": "execute_result"
    }
   ],
   "source": [
    "men_avg = 178\n",
    "men_std = 8\n",
    "wmn_avg = 170\n",
    "wmn_std = 6\n",
    "s_men = np.random.normal(men_avg, men_std, 1_000_000)\n",
    "s_men[:5]"
   ]
  },
  {
   "cell_type": "code",
   "execution_count": 36,
   "metadata": {},
   "outputs": [
    {
     "data": {
      "text/plain": [
       "array([162.36536614, 167.25173201, 171.38489867, ..., 171.51605719,\n",
       "       170.09045615, 169.16978908])"
      ]
     },
     "execution_count": 36,
     "metadata": {},
     "output_type": "execute_result"
    }
   ],
   "source": [
    "s_wmn = np.random.normal(wmn_avg, wmn_std, 1_000_000)\n",
    "s_wmn"
   ]
  },
  {
   "cell_type": "code",
   "execution_count": 37,
   "metadata": {},
   "outputs": [
    {
     "name": "stdout",
     "output_type": "stream",
     "text": [
      "The probability that we will have a woman taller than a man presuming a normal distribution is 0.212198\n"
     ]
    }
   ],
   "source": [
    "calculated_prob = (s_wmn > s_men).mean()\n",
    "print(f'The probability that we will have a woman taller than a man presuming a normal distribution is {calculated_prob}')"
   ]
  },
  {
   "cell_type": "markdown",
   "metadata": {},
   "source": [
    "### 6. When installing anaconda on a student's computer, there's a 1 in 250 chance that the download is corrupted and the installation fails. What are the odds that after having 50 students download anaconda, no one has an installation issue? 100 students?\n",
    "\n",
    "What is the probability that we observe an installation issue within the first 150 students that download anaconda?\n",
    "\n",
    "How likely is it that 450 students all download anaconda without an issue?"
   ]
  },
  {
   "cell_type": "code",
   "execution_count": 42,
   "metadata": {},
   "outputs": [
    {
     "data": {
      "text/plain": [
       "0.004"
      ]
     },
     "execution_count": 42,
     "metadata": {},
     "output_type": "execute_result"
    }
   ],
   "source": [
    "nrows = 1_000_000\n",
    "n_cols = 50\n",
    "conda_failure = 1\n",
    "great_success = 0\n",
    "prob_failure = (1/250)\n",
    "prob_failure"
   ]
  },
  {
   "cell_type": "code",
   "execution_count": 43,
   "metadata": {},
   "outputs": [
    {
     "data": {
      "text/plain": [
       "0.818759"
      ]
     },
     "execution_count": 43,
     "metadata": {},
     "output_type": "execute_result"
    }
   ],
   "source": [
    "installs = np.random.random((nrows, n_cols))\n",
    "((installs < prob_failure).sum(axis=1) == 0).mean()"
   ]
  },
  {
   "cell_type": "code",
   "execution_count": 44,
   "metadata": {},
   "outputs": [
    {
     "data": {
      "text/plain": [
       "0.004"
      ]
     },
     "execution_count": 44,
     "metadata": {},
     "output_type": "execute_result"
    }
   ],
   "source": [
    "n_cols = 100\n",
    "conda_failure = 1\n",
    "great_success = 0\n",
    "prob_failure = (1/250)\n",
    "prob_failure"
   ]
  },
  {
   "cell_type": "code",
   "execution_count": 45,
   "metadata": {},
   "outputs": [
    {
     "data": {
      "text/plain": [
       "0.668855"
      ]
     },
     "execution_count": 45,
     "metadata": {},
     "output_type": "execute_result"
    }
   ],
   "source": [
    "installs = np.random.random((nrows, n_cols))\n",
    "((installs < prob_failure).sum(axis=1) == 0).mean()"
   ]
  },
  {
   "cell_type": "code",
   "execution_count": 46,
   "metadata": {},
   "outputs": [
    {
     "data": {
      "text/plain": [
       "0.004"
      ]
     },
     "execution_count": 46,
     "metadata": {},
     "output_type": "execute_result"
    }
   ],
   "source": [
    "n_cols = 150\n",
    "conda_failure = 1\n",
    "great_success = 0\n",
    "prob_failure = (1/250)\n",
    "prob_failure"
   ]
  },
  {
   "cell_type": "code",
   "execution_count": 47,
   "metadata": {},
   "outputs": [
    {
     "data": {
      "text/plain": [
       "0.452286"
      ]
     },
     "execution_count": 47,
     "metadata": {},
     "output_type": "execute_result"
    }
   ],
   "source": [
    "installs = np.random.random((nrows, n_cols))\n",
    "((installs < prob_failure).sum(axis=1) > 0).mean()"
   ]
  },
  {
   "cell_type": "code",
   "execution_count": 48,
   "metadata": {},
   "outputs": [
    {
     "data": {
      "text/plain": [
       "0.004"
      ]
     },
     "execution_count": 48,
     "metadata": {},
     "output_type": "execute_result"
    }
   ],
   "source": [
    "n_cols = 450\n",
    "conda_failure = 1\n",
    "great_success = 0\n",
    "prob_failure = (1/250)\n",
    "prob_failure"
   ]
  },
  {
   "cell_type": "code",
   "execution_count": 49,
   "metadata": {},
   "outputs": [
    {
     "data": {
      "text/plain": [
       "0.164919"
      ]
     },
     "execution_count": 49,
     "metadata": {},
     "output_type": "execute_result"
    }
   ],
   "source": [
    "installs = np.random.random((nrows, n_cols))\n",
    "((installs < prob_failure).sum(axis=1) == 0).mean()"
   ]
  },
  {
   "cell_type": "code",
   "execution_count": 56,
   "metadata": {},
   "outputs": [],
   "source": [
    "# Review with Sam\n",
    "p = [1/250, 249/250]\n",
    "\n",
    "outcomes = [False, True]\n",
    "\n",
    "n_students = 50\n",
    "\n",
    "n_trials = 100_000\n",
    "\n",
    "failures = np.random.choice(outcomes, size=[n_trials, n_students], p=p)\n",
    "\n",
    "# john_outcomes = ([True] * 249).append(False)\n",
    "# np.random.choice(john_outcomes, size=[n_trials, n_students])\n",
    "\n",
    "df = pd.DataFrame(failures)\n",
    "df['n_succeed'] = df.sum(axis=1)\n",
    "df['all_succeed'] = df.n_succeed.mean()"
   ]
  },
  {
   "cell_type": "markdown",
   "metadata": {},
   "source": [
    "### 7. There's a 70% chance on any given day that there will be at least one food truck at Travis Park. However, you haven't seen a food truck there in 3 days. How unlikely is this?\n",
    "\n",
    "How likely is it that a food truck will show up sometime this week?"
   ]
  },
  {
   "cell_type": "code",
   "execution_count": 50,
   "metadata": {},
   "outputs": [
    {
     "data": {
      "text/plain": [
       "0.027034"
      ]
     },
     "execution_count": 50,
     "metadata": {},
     "output_type": "execute_result"
    }
   ],
   "source": [
    "n_rows = 1_000_000\n",
    "n_cols = 3\n",
    "food_truck = 1\n",
    "no_truck = 0\n",
    "truck_prob = 0.7\n",
    "data = np.random.random((n_rows, n_cols))\n",
    "((data < truck_prob).sum(axis=1) == 0).mean()"
   ]
  },
  {
   "cell_type": "code",
   "execution_count": 51,
   "metadata": {},
   "outputs": [],
   "source": [
    "n_rows = 1_000_000\n",
    "n_cols = 2\n",
    "food_truck = 1\n",
    "no_truck = 0\n",
    "truck_prob = 0.7"
   ]
  },
  {
   "cell_type": "code",
   "execution_count": 52,
   "metadata": {},
   "outputs": [
    {
     "data": {
      "text/plain": [
       "0.910435"
      ]
     },
     "execution_count": 52,
     "metadata": {},
     "output_type": "execute_result"
    }
   ],
   "source": [
    "lunch_days = np.random.random((n_rows, n_cols))\n",
    "calculated_prob = ((lunch_days < truck_prob).sum(axis=1) > 0).mean()\n",
    "calculated_prob"
   ]
  },
  {
   "cell_type": "code",
   "execution_count": null,
   "metadata": {},
   "outputs": [],
   "source": [
    "# Review with Sam\n",
    "n_days = 3\n",
    "​\n",
    "p = [3/10, 7/10]\n",
    "​\n",
    "outcomes = [False, True]\n",
    "​\n",
    "food_trucks = np.random.random([n_trials, n_days])\n",
    "​\n",
    "truck_df = pd.DataFrame(food_trucks)\n",
    "​\n",
    "truck_df = truck_df.apply(lambda x: x<.7)\n",
    "​\n",
    "truck_df['truck_sum'] = truck_df.sum(axis=1)\n",
    "​\n",
    "truck_df['no_trucks'] = truck_df.truck_sum == 0"
   ]
  },
  {
   "cell_type": "markdown",
   "metadata": {},
   "source": [
    "### 8. If 23 people are in the same room, what are the odds that two of them share a birthday? What if it's 20 people? 40?"
   ]
  },
  {
   "cell_type": "code",
   "execution_count": 57,
   "metadata": {},
   "outputs": [],
   "source": [
    "outcomes = range(0, 365)\n",
    "n_trials = 23\n",
    "n_simulations = 1_000_000\n",
    "classrooms = np.random.choice(outcomes, size=(n_simulations, n_trials))"
   ]
  },
  {
   "cell_type": "code",
   "execution_count": 58,
   "metadata": {},
   "outputs": [],
   "source": [
    "list_of_twin_bdays = [len(np.unique(classrooms[n])) for n in range(0, n_simulations-1) if len(np.unique(classrooms[n])) < 23]"
   ]
  },
  {
   "cell_type": "code",
   "execution_count": 59,
   "metadata": {},
   "outputs": [
    {
     "data": {
      "text/plain": [
       "0.507088"
      ]
     },
     "execution_count": 59,
     "metadata": {},
     "output_type": "execute_result"
    }
   ],
   "source": [
    "prop_twinsies = len(list_of_twin_bdays) / n_simulations\n",
    "prop_twinsies"
   ]
  },
  {
   "cell_type": "code",
   "execution_count": 60,
   "metadata": {},
   "outputs": [],
   "source": [
    "outcomes = range(0, 365)\n",
    "n_trials = 20\n",
    "n_simulations = 1_000_000\n",
    "classrooms = np.random.choice(outcomes, size=(n_simulations, n_trials))"
   ]
  },
  {
   "cell_type": "code",
   "execution_count": 61,
   "metadata": {},
   "outputs": [],
   "source": [
    "list_of_twin_bdays = [len(np.unique(classrooms[n])) for n in range(0, n_simulations-1) if len(np.unique(classrooms[n])) < 20]"
   ]
  },
  {
   "cell_type": "code",
   "execution_count": 62,
   "metadata": {},
   "outputs": [
    {
     "data": {
      "text/plain": [
       "0.411171"
      ]
     },
     "execution_count": 62,
     "metadata": {},
     "output_type": "execute_result"
    }
   ],
   "source": [
    "prop_twinsies = len(list_of_twin_bdays) / n_simulations\n",
    "prop_twinsies"
   ]
  },
  {
   "cell_type": "code",
   "execution_count": 63,
   "metadata": {},
   "outputs": [],
   "source": [
    "outcomes = range(0, 365)\n",
    "n_trials = 40\n",
    "n_simulations = 1_000_000\n",
    "classrooms = np.random.choice(outcomes, size=(n_simulations, n_trials))"
   ]
  },
  {
   "cell_type": "code",
   "execution_count": 64,
   "metadata": {},
   "outputs": [],
   "source": [
    "list_of_twin_bdays = [len(np.unique(classrooms[n])) for n in range(0, n_simulations-1) if len(np.unique(classrooms[n])) < 40]"
   ]
  },
  {
   "cell_type": "code",
   "execution_count": 65,
   "metadata": {},
   "outputs": [
    {
     "data": {
      "text/plain": [
       "0.891143"
      ]
     },
     "execution_count": 65,
     "metadata": {},
     "output_type": "execute_result"
    }
   ],
   "source": [
    "prop_twinsies = len(list_of_twin_bdays) / n_simulations\n",
    "prop_twinsies"
   ]
  },
  {
   "cell_type": "code",
   "execution_count": null,
   "metadata": {},
   "outputs": [],
   "source": []
  }
 ],
 "metadata": {
  "kernelspec": {
   "display_name": "Python 3",
   "language": "python",
   "name": "python3"
  },
  "language_info": {
   "codemirror_mode": {
    "name": "ipython",
    "version": 3
   },
   "file_extension": ".py",
   "mimetype": "text/x-python",
   "name": "python",
   "nbconvert_exporter": "python",
   "pygments_lexer": "ipython3",
   "version": "3.8.5"
  }
 },
 "nbformat": 4,
 "nbformat_minor": 4
}
